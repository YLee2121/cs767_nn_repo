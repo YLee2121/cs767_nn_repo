{
 "cells": [
  {
   "cell_type": "code",
   "execution_count": 1,
   "metadata": {},
   "outputs": [
    {
     "name": "stderr",
     "output_type": "stream",
     "text": [
      "c:\\Users\\Lee\\anaconda3\\envs\\tensorflow\\lib\\site-packages\\deeplake\\util\\check_latest_version.py:32: UserWarning: A newer version of deeplake (3.1.1) is available. It's recommended that you update to the latest version using `pip install -U deeplake`.\n",
      "  warnings.warn(\n"
     ]
    }
   ],
   "source": [
    "# load data\n",
    "import deeplake\n",
    "import numpy as np \n",
    "import tensorflow.keras as KERAS \n",
    "import tensorflow as tf\n",
    "from src import *\n",
    "import os\n",
    "import matplotlib.pyplot as plt "
   ]
  },
  {
   "cell_type": "markdown",
   "metadata": {},
   "source": [
    "# Data Proprocess"
   ]
  },
  {
   "cell_type": "code",
   "execution_count": 2,
   "metadata": {},
   "outputs": [
    {
     "name": "stdout",
     "output_type": "stream",
     "text": [
      "hub://activeloop/tiny-imagenet-train loaded successfully.\n",
      "This dataset can be visualized in Jupyter Notebook by ds.visualize() or at https://app.activeloop.ai/activeloop/tiny-imagenet-train\n",
      "hub://activeloop/tiny-imagenet-test loaded successfully.\n",
      "This dataset can be visualized in Jupyter Notebook by ds.visualize() or at https://app.activeloop.ai/activeloop/tiny-imagenet-test\n",
      "hub://activeloop/tiny-imagenet-validation loaded successfully.\n",
      "This dataset can be visualized in Jupyter Notebook by ds.visualize() or at https://app.activeloop.ai/activeloop/tiny-imagenet-validation\n"
     ]
    }
   ],
   "source": [
    "train = deeplake.load(\"hub://activeloop/tiny-imagenet-train\")\n",
    "test = deeplake.load(\"hub://activeloop/tiny-imagenet-test\")\n",
    "val = deeplake.load(\"hub://activeloop/tiny-imagenet-validation\")"
   ]
  },
  {
   "cell_type": "code",
   "execution_count": 3,
   "metadata": {},
   "outputs": [],
   "source": [
    "# extract data\n",
    "train_data_ori = train.images[:10000, :, :, 0:1].numpy()\n",
    "train_label = train.labels[:10000].numpy()\n",
    "\n",
    "# val_data_ori = val.images[:, :, :, 0:1].numpy()\n",
    "# val_label = val.labels[:].numpy()"
   ]
  },
  {
   "cell_type": "code",
   "execution_count": 4,
   "metadata": {},
   "outputs": [
    {
     "name": "stdout",
     "output_type": "stream",
     "text": [
      "(10000, 75, 75, 3)\n"
     ]
    }
   ],
   "source": [
    "# turn one channel to three channel\n",
    "# and resize to 75, 75\n",
    "train_data_norm = into_three_ch(train_data_ori, (75, 75)) / 255 \n",
    "\n",
    "# val_data_norm = into_three_ch(val_data_ori, (75, 75)) / 255\n",
    "\n",
    "print(train_data_norm.shape)\n",
    "# print(val_data_norm.shape)"
   ]
  },
  {
   "cell_type": "code",
   "execution_count": 5,
   "metadata": {},
   "outputs": [
    {
     "name": "stdout",
     "output_type": "stream",
     "text": [
      "(10000, 75, 75, 3)\n",
      "(10000, 20)\n",
      "20\n"
     ]
    }
   ],
   "source": [
    "# encode the label \n",
    "label = {l[0] for l in train_label}\n",
    "num_of_class = len(label)\n",
    "\n",
    "train_label_idx, mapping = label_shrink(train_label)\n",
    "train_label_encode = KERAS.utils.to_categorical(train_label_idx, num_classes=num_of_class)\n",
    "\n",
    "# val_label_idx, mapping = label_shrink(val_label, mapping)\n",
    "# val_label_encode = KERAS.utils.to_categorical(val_label_idx, num_classes=num_of_class)\n",
    "\n",
    "print(train_data_norm.shape)\n",
    "print(train_label_encode.shape)\n",
    "print(num_of_class)\n",
    "# print(val_data_norm.shape)\n",
    "# print(val_label_encode.shape)"
   ]
  },
  {
   "cell_type": "markdown",
   "metadata": {},
   "source": [
    "# CNN PART"
   ]
  },
  {
   "cell_type": "code",
   "execution_count": 6,
   "metadata": {},
   "outputs": [
    {
     "name": "stdout",
     "output_type": "stream",
     "text": [
      "Model: \"sequential\"\n",
      "_________________________________________________________________\n",
      "Layer (type)                 Output Shape              Param #   \n",
      "=================================================================\n",
      "vgg19 (Functional)           (None, 2, 2, 512)         20024384  \n",
      "_________________________________________________________________\n",
      "flatten (Flatten)            (None, 2048)              0         \n",
      "_________________________________________________________________\n",
      "dense (Dense)                (None, 128)               262272    \n",
      "_________________________________________________________________\n",
      "dense_1 (Dense)              (None, 20)                2580      \n",
      "=================================================================\n",
      "Total params: 20,289,236\n",
      "Trainable params: 264,852\n",
      "Non-trainable params: 20,024,384\n",
      "_________________________________________________________________\n"
     ]
    }
   ],
   "source": [
    "# VGG-19\n",
    "input_shape = (75, 75, 3)\n",
    "\n",
    "base = KERAS.applications.VGG19(\n",
    "    weights='imagenet',\n",
    "    include_top=False, \n",
    "    input_shape=input_shape\n",
    ")\n",
    "\n",
    "base.trainable = False \n",
    "\n",
    "\n",
    "model = KERAS.models.Sequential(\n",
    "    [\n",
    "        base, \n",
    "        KERAS.layers.Flatten(), \n",
    "\n",
    "        KERAS.layers.Dense(128, activation='relu'),\n",
    "\n",
    "        KERAS.layers.Dense(num_of_class, activation='softmax')\n",
    "    ]\n",
    ")\n",
    "\n",
    "\n",
    "model.compile(\n",
    "    loss=KERAS.losses.CategoricalCrossentropy(), \n",
    "    optimizer=KERAS.optimizers.RMSprop(), \n",
    "    metrics=[KERAS.metrics.CategoricalAccuracy()]\n",
    ")\n",
    "\n",
    "model.summary()\n",
    "\n",
    "history = model.fit(\n",
    "    train_data_norm, train_label_encode,\n",
    "    batch_size=64,\n",
    "    epochs=50,\n",
    "    validation_split=0.01,\n",
    "    verbose=0,\n",
    "\n",
    "    use_multiprocessing=True\n",
    ")\n",
    "\n",
    "plot_history(history)\n"
   ]
  },
  {
   "cell_type": "code",
   "execution_count": null,
   "metadata": {},
   "outputs": [
    {
     "name": "stdout",
     "output_type": "stream",
     "text": [
      "Model: \"sequential_10\"\n",
      "_________________________________________________________________\n",
      "Layer (type)                 Output Shape              Param #   \n",
      "=================================================================\n",
      "resnet50v2 (Functional)      (None, 3, 3, 2048)        23564800  \n",
      "_________________________________________________________________\n",
      "flatten_10 (Flatten)         (None, 18432)             0         \n",
      "_________________________________________________________________\n",
      "dense_50 (Dense)             (None, 128)               2359424   \n",
      "_________________________________________________________________\n",
      "dense_51 (Dense)             (None, 10)                1290      \n",
      "=================================================================\n",
      "Total params: 25,925,514\n",
      "Trainable params: 2,360,714\n",
      "Non-trainable params: 23,564,800\n",
      "_________________________________________________________________\n",
      "Epoch 1/10\n",
      "78/78 [==============================] - 7s 65ms/step - loss: 1.9769 - categorical_accuracy: 0.6226 - val_loss: 1.6455 - val_categorical_accuracy: 0.5600\n",
      "Epoch 2/10\n",
      "78/78 [==============================] - 3s 42ms/step - loss: 0.6927 - categorical_accuracy: 0.7855 - val_loss: 0.7654 - val_categorical_accuracy: 0.7800\n",
      "Epoch 3/10\n",
      "22/78 [=======>......................] - ETA: 2s - loss: 0.2927 - categorical_accuracy: 0.9070"
     ]
    },
    {
     "ename": "KeyboardInterrupt",
     "evalue": "",
     "output_type": "error",
     "traceback": [
      "\u001b[1;31m---------------------------------------------------------------------------\u001b[0m",
      "\u001b[1;31mKeyboardInterrupt\u001b[0m                         Traceback (most recent call last)",
      "\u001b[1;32m<ipython-input-31-0644a3b99811>\u001b[0m in \u001b[0;36m<module>\u001b[1;34m\u001b[0m\n\u001b[0;32m     33\u001b[0m \u001b[0mmodel\u001b[0m\u001b[1;33m.\u001b[0m\u001b[0msummary\u001b[0m\u001b[1;33m(\u001b[0m\u001b[1;33m)\u001b[0m\u001b[1;33m\u001b[0m\u001b[1;33m\u001b[0m\u001b[0m\n\u001b[0;32m     34\u001b[0m \u001b[1;33m\u001b[0m\u001b[0m\n\u001b[1;32m---> 35\u001b[1;33m history = model.fit(\n\u001b[0m\u001b[0;32m     36\u001b[0m     \u001b[0mtrain_data_norm\u001b[0m\u001b[1;33m,\u001b[0m \u001b[0mtrain_label_encode\u001b[0m\u001b[1;33m,\u001b[0m\u001b[1;33m\u001b[0m\u001b[1;33m\u001b[0m\u001b[0m\n\u001b[0;32m     37\u001b[0m     \u001b[0mbatch_size\u001b[0m\u001b[1;33m=\u001b[0m\u001b[1;36m64\u001b[0m\u001b[1;33m,\u001b[0m\u001b[1;33m\u001b[0m\u001b[1;33m\u001b[0m\u001b[0m\n",
      "\u001b[1;32mc:\\Users\\Lee\\anaconda3\\envs\\tensorflow\\lib\\site-packages\\tensorflow\\python\\keras\\engine\\training.py\u001b[0m in \u001b[0;36mfit\u001b[1;34m(self, x, y, batch_size, epochs, verbose, callbacks, validation_split, validation_data, shuffle, class_weight, sample_weight, initial_epoch, steps_per_epoch, validation_steps, validation_batch_size, validation_freq, max_queue_size, workers, use_multiprocessing)\u001b[0m\n\u001b[0;32m   1181\u001b[0m                 _r=1):\n\u001b[0;32m   1182\u001b[0m               \u001b[0mcallbacks\u001b[0m\u001b[1;33m.\u001b[0m\u001b[0mon_train_batch_begin\u001b[0m\u001b[1;33m(\u001b[0m\u001b[0mstep\u001b[0m\u001b[1;33m)\u001b[0m\u001b[1;33m\u001b[0m\u001b[1;33m\u001b[0m\u001b[0m\n\u001b[1;32m-> 1183\u001b[1;33m               \u001b[0mtmp_logs\u001b[0m \u001b[1;33m=\u001b[0m \u001b[0mself\u001b[0m\u001b[1;33m.\u001b[0m\u001b[0mtrain_function\u001b[0m\u001b[1;33m(\u001b[0m\u001b[0miterator\u001b[0m\u001b[1;33m)\u001b[0m\u001b[1;33m\u001b[0m\u001b[1;33m\u001b[0m\u001b[0m\n\u001b[0m\u001b[0;32m   1184\u001b[0m               \u001b[1;32mif\u001b[0m \u001b[0mdata_handler\u001b[0m\u001b[1;33m.\u001b[0m\u001b[0mshould_sync\u001b[0m\u001b[1;33m:\u001b[0m\u001b[1;33m\u001b[0m\u001b[1;33m\u001b[0m\u001b[0m\n\u001b[0;32m   1185\u001b[0m                 \u001b[0mcontext\u001b[0m\u001b[1;33m.\u001b[0m\u001b[0masync_wait\u001b[0m\u001b[1;33m(\u001b[0m\u001b[1;33m)\u001b[0m\u001b[1;33m\u001b[0m\u001b[1;33m\u001b[0m\u001b[0m\n",
      "\u001b[1;32mc:\\Users\\Lee\\anaconda3\\envs\\tensorflow\\lib\\site-packages\\tensorflow\\python\\eager\\def_function.py\u001b[0m in \u001b[0;36m__call__\u001b[1;34m(self, *args, **kwds)\u001b[0m\n\u001b[0;32m    887\u001b[0m \u001b[1;33m\u001b[0m\u001b[0m\n\u001b[0;32m    888\u001b[0m       \u001b[1;32mwith\u001b[0m \u001b[0mOptionalXlaContext\u001b[0m\u001b[1;33m(\u001b[0m\u001b[0mself\u001b[0m\u001b[1;33m.\u001b[0m\u001b[0m_jit_compile\u001b[0m\u001b[1;33m)\u001b[0m\u001b[1;33m:\u001b[0m\u001b[1;33m\u001b[0m\u001b[1;33m\u001b[0m\u001b[0m\n\u001b[1;32m--> 889\u001b[1;33m         \u001b[0mresult\u001b[0m \u001b[1;33m=\u001b[0m \u001b[0mself\u001b[0m\u001b[1;33m.\u001b[0m\u001b[0m_call\u001b[0m\u001b[1;33m(\u001b[0m\u001b[1;33m*\u001b[0m\u001b[0margs\u001b[0m\u001b[1;33m,\u001b[0m \u001b[1;33m**\u001b[0m\u001b[0mkwds\u001b[0m\u001b[1;33m)\u001b[0m\u001b[1;33m\u001b[0m\u001b[1;33m\u001b[0m\u001b[0m\n\u001b[0m\u001b[0;32m    890\u001b[0m \u001b[1;33m\u001b[0m\u001b[0m\n\u001b[0;32m    891\u001b[0m       \u001b[0mnew_tracing_count\u001b[0m \u001b[1;33m=\u001b[0m \u001b[0mself\u001b[0m\u001b[1;33m.\u001b[0m\u001b[0mexperimental_get_tracing_count\u001b[0m\u001b[1;33m(\u001b[0m\u001b[1;33m)\u001b[0m\u001b[1;33m\u001b[0m\u001b[1;33m\u001b[0m\u001b[0m\n",
      "\u001b[1;32mc:\\Users\\Lee\\anaconda3\\envs\\tensorflow\\lib\\site-packages\\tensorflow\\python\\eager\\def_function.py\u001b[0m in \u001b[0;36m_call\u001b[1;34m(self, *args, **kwds)\u001b[0m\n\u001b[0;32m    915\u001b[0m       \u001b[1;31m# In this case we have created variables on the first call, so we run the\u001b[0m\u001b[1;33m\u001b[0m\u001b[1;33m\u001b[0m\u001b[1;33m\u001b[0m\u001b[0m\n\u001b[0;32m    916\u001b[0m       \u001b[1;31m# defunned version which is guaranteed to never create variables.\u001b[0m\u001b[1;33m\u001b[0m\u001b[1;33m\u001b[0m\u001b[1;33m\u001b[0m\u001b[0m\n\u001b[1;32m--> 917\u001b[1;33m       \u001b[1;32mreturn\u001b[0m \u001b[0mself\u001b[0m\u001b[1;33m.\u001b[0m\u001b[0m_stateless_fn\u001b[0m\u001b[1;33m(\u001b[0m\u001b[1;33m*\u001b[0m\u001b[0margs\u001b[0m\u001b[1;33m,\u001b[0m \u001b[1;33m**\u001b[0m\u001b[0mkwds\u001b[0m\u001b[1;33m)\u001b[0m  \u001b[1;31m# pylint: disable=not-callable\u001b[0m\u001b[1;33m\u001b[0m\u001b[1;33m\u001b[0m\u001b[0m\n\u001b[0m\u001b[0;32m    918\u001b[0m     \u001b[1;32melif\u001b[0m \u001b[0mself\u001b[0m\u001b[1;33m.\u001b[0m\u001b[0m_stateful_fn\u001b[0m \u001b[1;32mis\u001b[0m \u001b[1;32mnot\u001b[0m \u001b[1;32mNone\u001b[0m\u001b[1;33m:\u001b[0m\u001b[1;33m\u001b[0m\u001b[1;33m\u001b[0m\u001b[0m\n\u001b[0;32m    919\u001b[0m       \u001b[1;31m# Release the lock early so that multiple threads can perform the call\u001b[0m\u001b[1;33m\u001b[0m\u001b[1;33m\u001b[0m\u001b[1;33m\u001b[0m\u001b[0m\n",
      "\u001b[1;32mc:\\Users\\Lee\\anaconda3\\envs\\tensorflow\\lib\\site-packages\\tensorflow\\python\\eager\\function.py\u001b[0m in \u001b[0;36m__call__\u001b[1;34m(self, *args, **kwargs)\u001b[0m\n\u001b[0;32m   3021\u001b[0m       (graph_function,\n\u001b[0;32m   3022\u001b[0m        filtered_flat_args) = self._maybe_define_function(args, kwargs)\n\u001b[1;32m-> 3023\u001b[1;33m     return graph_function._call_flat(\n\u001b[0m\u001b[0;32m   3024\u001b[0m         filtered_flat_args, captured_inputs=graph_function.captured_inputs)  # pylint: disable=protected-access\n\u001b[0;32m   3025\u001b[0m \u001b[1;33m\u001b[0m\u001b[0m\n",
      "\u001b[1;32mc:\\Users\\Lee\\anaconda3\\envs\\tensorflow\\lib\\site-packages\\tensorflow\\python\\eager\\function.py\u001b[0m in \u001b[0;36m_call_flat\u001b[1;34m(self, args, captured_inputs, cancellation_manager)\u001b[0m\n\u001b[0;32m   1958\u001b[0m         and executing_eagerly):\n\u001b[0;32m   1959\u001b[0m       \u001b[1;31m# No tape is watching; skip to running the function.\u001b[0m\u001b[1;33m\u001b[0m\u001b[1;33m\u001b[0m\u001b[1;33m\u001b[0m\u001b[0m\n\u001b[1;32m-> 1960\u001b[1;33m       return self._build_call_outputs(self._inference_function.call(\n\u001b[0m\u001b[0;32m   1961\u001b[0m           ctx, args, cancellation_manager=cancellation_manager))\n\u001b[0;32m   1962\u001b[0m     forward_backward = self._select_forward_and_backward_functions(\n",
      "\u001b[1;32mc:\\Users\\Lee\\anaconda3\\envs\\tensorflow\\lib\\site-packages\\tensorflow\\python\\eager\\function.py\u001b[0m in \u001b[0;36mcall\u001b[1;34m(self, ctx, args, cancellation_manager)\u001b[0m\n\u001b[0;32m    589\u001b[0m       \u001b[1;32mwith\u001b[0m \u001b[0m_InterpolateFunctionError\u001b[0m\u001b[1;33m(\u001b[0m\u001b[0mself\u001b[0m\u001b[1;33m)\u001b[0m\u001b[1;33m:\u001b[0m\u001b[1;33m\u001b[0m\u001b[1;33m\u001b[0m\u001b[0m\n\u001b[0;32m    590\u001b[0m         \u001b[1;32mif\u001b[0m \u001b[0mcancellation_manager\u001b[0m \u001b[1;32mis\u001b[0m \u001b[1;32mNone\u001b[0m\u001b[1;33m:\u001b[0m\u001b[1;33m\u001b[0m\u001b[1;33m\u001b[0m\u001b[0m\n\u001b[1;32m--> 591\u001b[1;33m           outputs = execute.execute(\n\u001b[0m\u001b[0;32m    592\u001b[0m               \u001b[0mstr\u001b[0m\u001b[1;33m(\u001b[0m\u001b[0mself\u001b[0m\u001b[1;33m.\u001b[0m\u001b[0msignature\u001b[0m\u001b[1;33m.\u001b[0m\u001b[0mname\u001b[0m\u001b[1;33m)\u001b[0m\u001b[1;33m,\u001b[0m\u001b[1;33m\u001b[0m\u001b[1;33m\u001b[0m\u001b[0m\n\u001b[0;32m    593\u001b[0m               \u001b[0mnum_outputs\u001b[0m\u001b[1;33m=\u001b[0m\u001b[0mself\u001b[0m\u001b[1;33m.\u001b[0m\u001b[0m_num_outputs\u001b[0m\u001b[1;33m,\u001b[0m\u001b[1;33m\u001b[0m\u001b[1;33m\u001b[0m\u001b[0m\n",
      "\u001b[1;32mc:\\Users\\Lee\\anaconda3\\envs\\tensorflow\\lib\\site-packages\\tensorflow\\python\\eager\\execute.py\u001b[0m in \u001b[0;36mquick_execute\u001b[1;34m(op_name, num_outputs, inputs, attrs, ctx, name)\u001b[0m\n\u001b[0;32m     57\u001b[0m   \u001b[1;32mtry\u001b[0m\u001b[1;33m:\u001b[0m\u001b[1;33m\u001b[0m\u001b[1;33m\u001b[0m\u001b[0m\n\u001b[0;32m     58\u001b[0m     \u001b[0mctx\u001b[0m\u001b[1;33m.\u001b[0m\u001b[0mensure_initialized\u001b[0m\u001b[1;33m(\u001b[0m\u001b[1;33m)\u001b[0m\u001b[1;33m\u001b[0m\u001b[1;33m\u001b[0m\u001b[0m\n\u001b[1;32m---> 59\u001b[1;33m     tensors = pywrap_tfe.TFE_Py_Execute(ctx._handle, device_name, op_name,\n\u001b[0m\u001b[0;32m     60\u001b[0m                                         inputs, attrs, num_outputs)\n\u001b[0;32m     61\u001b[0m   \u001b[1;32mexcept\u001b[0m \u001b[0mcore\u001b[0m\u001b[1;33m.\u001b[0m\u001b[0m_NotOkStatusException\u001b[0m \u001b[1;32mas\u001b[0m \u001b[0me\u001b[0m\u001b[1;33m:\u001b[0m\u001b[1;33m\u001b[0m\u001b[1;33m\u001b[0m\u001b[0m\n",
      "\u001b[1;31mKeyboardInterrupt\u001b[0m: "
     ]
    }
   ],
   "source": [
    "# ResNet50V2\n",
    "\n",
    "input_shape = (75, 75, 3)\n",
    "\n",
    "base = KERAS.applications.ResNet50V2(\n",
    "    weights='imagenet',\n",
    "    include_top=False, \n",
    "    input_shape=input_shape\n",
    ")\n",
    "\n",
    "base.trainable = False \n",
    "\n",
    "\n",
    "\n",
    "model = KERAS.models.Sequential(\n",
    "    [\n",
    "        base, \n",
    "        KERAS.layers.Flatten(), \n",
    "\n",
    "        KERAS.layers.Dense(128, activation='relu'),\n",
    "\n",
    "        KERAS.layers.Dense(num_of_class, activation='softmax')\n",
    "    ]\n",
    ")\n",
    "\n",
    "\n",
    "model.compile(\n",
    "    loss=KERAS.losses.CategoricalCrossentropy(), \n",
    "    optimizer=KERAS.optimizers.RMSprop(), \n",
    "    metrics=[KERAS.metrics.CategoricalAccuracy()]\n",
    ")\n",
    "\n",
    "model.summary()\n",
    "\n",
    "history = model.fit(\n",
    "    train_data_norm, train_label_encode,\n",
    "    batch_size=64,\n",
    "    epochs=50,\n",
    "    validation_split=0.01,\n",
    "    verbose=0,\n",
    "\n",
    "    use_multiprocessing=True\n",
    ")\n",
    "\n",
    "plot_history(history)\n"
   ]
  },
  {
   "cell_type": "code",
   "execution_count": null,
   "metadata": {},
   "outputs": [
    {
     "name": "stdout",
     "output_type": "stream",
     "text": [
      "Model: \"sequential_7\"\n",
      "_________________________________________________________________\n",
      "Layer (type)                 Output Shape              Param #   \n",
      "=================================================================\n",
      "inception_v3 (Functional)    (None, 1, 1, 2048)        21802784  \n",
      "_________________________________________________________________\n",
      "flatten_7 (Flatten)          (None, 2048)              0         \n",
      "_________________________________________________________________\n",
      "dense_44 (Dense)             (None, 128)               262272    \n",
      "_________________________________________________________________\n",
      "dense_45 (Dense)             (None, 10)                1290      \n",
      "=================================================================\n",
      "Total params: 22,066,346\n",
      "Trainable params: 263,562\n",
      "Non-trainable params: 21,802,784\n",
      "_________________________________________________________________\n",
      "Epoch 1/10\n",
      "78/78 [==============================] - 10s 75ms/step - loss: 1.4551 - categorical_accuracy: 0.5451 - val_loss: 1.1624 - val_categorical_accuracy: 0.7000\n",
      "Epoch 2/10\n",
      "78/78 [==============================] - 3s 34ms/step - loss: 0.9171 - categorical_accuracy: 0.7063 - val_loss: 1.4607 - val_categorical_accuracy: 0.5200\n",
      "Epoch 3/10\n",
      "78/78 [==============================] - 3s 36ms/step - loss: 0.7083 - categorical_accuracy: 0.7709 - val_loss: 1.3040 - val_categorical_accuracy: 0.6200\n",
      "Epoch 4/10\n",
      "78/78 [==============================] - 3s 36ms/step - loss: 0.5576 - categorical_accuracy: 0.8253 - val_loss: 0.5967 - val_categorical_accuracy: 0.7800\n",
      "Epoch 5/10\n",
      "78/78 [==============================] - 3s 37ms/step - loss: 0.4340 - categorical_accuracy: 0.8685 - val_loss: 0.9736 - val_categorical_accuracy: 0.7000\n",
      "Epoch 6/10\n",
      "78/78 [==============================] - 3s 36ms/step - loss: 0.3374 - categorical_accuracy: 0.9073 - val_loss: 1.2607 - val_categorical_accuracy: 0.6000\n",
      "Epoch 7/10\n",
      "78/78 [==============================] - 3s 36ms/step - loss: 0.2585 - categorical_accuracy: 0.9345 - val_loss: 1.0355 - val_categorical_accuracy: 0.7200\n",
      "Epoch 8/10\n",
      "78/78 [==============================] - 3s 35ms/step - loss: 0.2016 - categorical_accuracy: 0.9523 - val_loss: 0.7690 - val_categorical_accuracy: 0.7800\n",
      "Epoch 9/10\n",
      "78/78 [==============================] - 3s 35ms/step - loss: 0.1461 - categorical_accuracy: 0.9741 - val_loss: 1.2912 - val_categorical_accuracy: 0.6200\n",
      "Epoch 10/10\n",
      "78/78 [==============================] - 3s 36ms/step - loss: 0.1094 - categorical_accuracy: 0.9810 - val_loss: 1.4664 - val_categorical_accuracy: 0.6200\n"
     ]
    },
    {
     "data": {
      "image/png": "[encoded data removed]",
      "text/plain": [
       "<Figure size 432x288 with 1 Axes>"
      ]
     },
     "metadata": {
      "needs_background": "light"
     },
     "output_type": "display_data"
    }
   ],
   "source": [
    "# Inceptionv4\n",
    "input_shape = (75, 75, 3)\n",
    "\n",
    "base = KERAS.applications.InceptionV3(\n",
    "    weights='imagenet',\n",
    "    include_top=False, \n",
    "    input_shape=input_shape\n",
    ")\n",
    "\n",
    "base.trainable = False \n",
    "\n",
    "\n",
    "\n",
    "model = KERAS.models.Sequential(\n",
    "    [\n",
    "        base, \n",
    "        KERAS.layers.Flatten(), \n",
    "\n",
    "        KERAS.layers.Dense(128, activation='relu'),\n",
    "\n",
    "        KERAS.layers.Dense(num_of_class, activation='softmax')\n",
    "    ]\n",
    ")\n",
    "\n",
    "\n",
    "model.compile(\n",
    "    loss=KERAS.losses.CategoricalCrossentropy(), \n",
    "    optimizer=KERAS.optimizers.RMSprop(), \n",
    "    metrics=[KERAS.metrics.CategoricalAccuracy()]\n",
    ")\n",
    "\n",
    "model.summary()\n",
    "\n",
    "history = model.fit(\n",
    "    train_data_norm, train_label_encode,\n",
    "    batch_size=64,\n",
    "    epochs=50,\n",
    "    validation_split=0.01,\n",
    "    verbose=0,\n",
    "\n",
    "    use_multiprocessing=True\n",
    ")\n",
    "\n",
    "plot_history(history)"
   ]
  }
 ],
 "metadata": {
  "kernelspec": {
   "display_name": "Python 3.9.4 ('tensorflow')",
   "language": "python",
   "name": "python3"
  },
  "language_info": {
   "codemirror_mode": {
    "name": "ipython",
    "version": 3
   },
   "file_extension": ".py",
   "mimetype": "text/x-python",
   "name": "python",
   "nbconvert_exporter": "python",
   "pygments_lexer": "ipython3",
   "version": "3.9.4"
  },
  "orig_nbformat": 4,
  "vscode": {
   "interpreter": {
    "hash": "864a122fd1cbbe6528040bb043d43f70912886d91a2d0318a1bb6ab6f4928e6b"
   }
  }
 },
 "nbformat": 4,
 "nbformat_minor": 2
}
